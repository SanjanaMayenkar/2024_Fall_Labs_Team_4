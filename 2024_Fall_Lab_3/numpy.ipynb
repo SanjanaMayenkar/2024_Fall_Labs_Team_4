{
 "cells": [
  {
   "cell_type": "code",
   "execution_count": 1,
   "id": "9f959f88-20e7-4b9a-ba42-237849871bb3",
   "metadata": {},
   "outputs": [],
   "source": [
    "import numpy as np"
   ]
  },
  {
   "cell_type": "markdown",
   "id": "fbb462b0-ab58-4ed5-9e59-082a52d146c8",
   "metadata": {},
   "source": [
    "## 3. [1,2,3,4]"
   ]
  },
  {
   "cell_type": "code",
   "execution_count": 2,
   "id": "54c73b59-2dc6-4d91-bf3b-26c9f899f5cb",
   "metadata": {},
   "outputs": [],
   "source": [
    "arr3 = np.array([1,2,3,4])"
   ]
  },
  {
   "cell_type": "code",
   "execution_count": 4,
   "id": "0141c4b2-8265-44b8-be2d-5781e52b1564",
   "metadata": {},
   "outputs": [
    {
     "name": "stdout",
     "output_type": "stream",
     "text": [
      "[1 2 3 4]\n",
      "<class 'numpy.ndarray'>\n"
     ]
    }
   ],
   "source": [
    "print(arr3)\n",
    "print(type(arr3))"
   ]
  },
  {
   "cell_type": "markdown",
   "id": "f1b311c5-43e6-468a-977c-4bea1468419d",
   "metadata": {},
   "source": [
    "## 4. 3x4 1s array, 4x3 0s array"
   ]
  },
  {
   "cell_type": "code",
   "execution_count": 7,
   "id": "e292d267-3d5d-4c3e-af88-a35b9f9a2a72",
   "metadata": {},
   "outputs": [],
   "source": [
    "arr4ones = np.ones(shape=(3,4))"
   ]
  },
  {
   "cell_type": "code",
   "execution_count": 11,
   "id": "caabc5b9-0bb9-4211-a89c-f391d522b86a",
   "metadata": {},
   "outputs": [
    {
     "name": "stdout",
     "output_type": "stream",
     "text": [
      "[[1. 1. 1. 1.]\n",
      " [1. 1. 1. 1.]\n",
      " [1. 1. 1. 1.]]\n",
      "(3, 4)\n"
     ]
    }
   ],
   "source": [
    "print(arr4ones)\n",
    "print(arr4ones.shape)"
   ]
  },
  {
   "cell_type": "code",
   "execution_count": 9,
   "id": "c25aa37c-19a2-49f7-a8dc-c77cf782f070",
   "metadata": {},
   "outputs": [],
   "source": [
    "arr4zeros = np.zeros(shape=(4,3))"
   ]
  },
  {
   "cell_type": "code",
   "execution_count": 12,
   "id": "85745c7f-0c95-4feb-8d31-c5ec2976f127",
   "metadata": {},
   "outputs": [
    {
     "name": "stdout",
     "output_type": "stream",
     "text": [
      "[[0. 0. 0.]\n",
      " [0. 0. 0.]\n",
      " [0. 0. 0.]\n",
      " [0. 0. 0.]]\n",
      "(4, 3)\n"
     ]
    }
   ],
   "source": [
    "print(arr4zeros)\n",
    "print(arr4zeros.shape)"
   ]
  },
  {
   "cell_type": "markdown",
   "id": "eba0ff84-69db-4b65-b953-d579a36fb5e8",
   "metadata": {},
   "source": [
    "## 5. A (2,3) and B (3,4)"
   ]
  },
  {
   "cell_type": "code",
   "execution_count": 15,
   "id": "4b9b5186-353f-4db2-9ab5-61fefbff1be6",
   "metadata": {},
   "outputs": [],
   "source": [
    "A = np.array([[1,2,3],[4,5,6]])\n",
    "B = np.array([[1,2,3,4],[5,6,7,8],[9,10,11,19]])"
   ]
  },
  {
   "cell_type": "code",
   "execution_count": 16,
   "id": "8cd9c422-55a9-4068-82c3-c8f2455ba0f8",
   "metadata": {},
   "outputs": [
    {
     "name": "stdout",
     "output_type": "stream",
     "text": [
      "[[1 2 3]\n",
      " [4 5 6]]\n",
      "[[ 1  2  3  4]\n",
      " [ 5  6  7  8]\n",
      " [ 9 10 11 19]]\n"
     ]
    }
   ],
   "source": [
    "print(A)\n",
    "print(B)"
   ]
  },
  {
   "cell_type": "code",
   "execution_count": 17,
   "id": "97639e03-dbad-417a-bd6d-58bc142178d2",
   "metadata": {},
   "outputs": [],
   "source": [
    "# C = np.dot(A, B)\n",
    "C = A @ B"
   ]
  },
  {
   "cell_type": "code",
   "execution_count": 18,
   "id": "08f2ea04-2957-4487-a0d0-758f7745343a",
   "metadata": {},
   "outputs": [
    {
     "name": "stdout",
     "output_type": "stream",
     "text": [
      "[[ 38  44  50  77]\n",
      " [ 83  98 113 170]]\n",
      "(2, 4)\n"
     ]
    }
   ],
   "source": [
    "print(C)\n",
    "print(C.shape)"
   ]
  },
  {
   "cell_type": "code",
   "execution_count": 19,
   "id": "f1d48ef5-b77e-4a6c-b3cb-8928cdbedd2c",
   "metadata": {},
   "outputs": [
    {
     "data": {
      "text/plain": [
       "array([[ True,  True,  True,  True],\n",
       "       [ True,  True,  True,  True]])"
      ]
     },
     "execution_count": 19,
     "metadata": {},
     "output_type": "execute_result"
    }
   ],
   "source": [
    "(A @ B) == np.dot(A, B)"
   ]
  },
  {
   "cell_type": "markdown",
   "id": "02cfe35b-174a-4d0e-bc93-8d60eb33924d",
   "metadata": {},
   "source": [
    "## 6. Eigenvectors and values of [[3,1],[1,2]]\n",
    "nth columns of eigenvectors is the eigenvector for eigenvalue n "
   ]
  },
  {
   "cell_type": "code",
   "execution_count": 20,
   "id": "c3128b6f-6f76-4b8c-83ef-73e17c02610d",
   "metadata": {},
   "outputs": [],
   "source": [
    "M = np.array([[3,1],[1,2]])"
   ]
  },
  {
   "cell_type": "code",
   "execution_count": 21,
   "id": "b47996e3-d0cf-49ff-bff0-58d0088eafb6",
   "metadata": {},
   "outputs": [
    {
     "name": "stdout",
     "output_type": "stream",
     "text": [
      "[[3 1]\n",
      " [1 2]]\n"
     ]
    }
   ],
   "source": [
    "print(M)"
   ]
  },
  {
   "cell_type": "code",
   "execution_count": 22,
   "id": "4ebf65ab-a680-480c-8cd2-5663468948d3",
   "metadata": {},
   "outputs": [],
   "source": [
    "evals, evecs = np.linalg.eig(M)"
   ]
  },
  {
   "cell_type": "code",
   "execution_count": 23,
   "id": "8f8b5eae-fe1f-4895-b999-0a783cb21cda",
   "metadata": {},
   "outputs": [
    {
     "name": "stdout",
     "output_type": "stream",
     "text": [
      "Eigenvalues: [3.61803399 1.38196601]\n"
     ]
    }
   ],
   "source": [
    "print(f'Eigenvalues: {evals}')"
   ]
  },
  {
   "cell_type": "code",
   "execution_count": 26,
   "id": "73b04456-3b66-4e57-8a37-f63dca5d15ab",
   "metadata": {},
   "outputs": [
    {
     "name": "stdout",
     "output_type": "stream",
     "text": [
      "Eigenvectors:\n",
      " [[ 0.85065081 -0.52573111]\n",
      " [ 0.52573111  0.85065081]]\n"
     ]
    }
   ],
   "source": [
    "print(f'Eigenvectors:\\n {evecs}')"
   ]
  }
 ],
 "metadata": {
  "kernelspec": {
   "display_name": "Python 3 (ipykernel)",
   "language": "python",
   "name": "python3"
  },
  "language_info": {
   "codemirror_mode": {
    "name": "ipython",
    "version": 3
   },
   "file_extension": ".py",
   "mimetype": "text/x-python",
   "name": "python",
   "nbconvert_exporter": "python",
   "pygments_lexer": "ipython3",
   "version": "3.10.6"
  }
 },
 "nbformat": 4,
 "nbformat_minor": 5
}
